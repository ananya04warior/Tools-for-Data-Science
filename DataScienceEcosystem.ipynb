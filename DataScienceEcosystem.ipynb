{
  "metadata": {
    "language_info": {
      "codemirror_mode": {
        "name": "python",
        "version": 3
      },
      "file_extension": ".py",
      "mimetype": "text/x-python",
      "name": "python",
      "nbconvert_exporter": "python",
      "pygments_lexer": "ipython3",
      "version": "3.8"
    },
    "kernelspec": {
      "name": "python",
      "display_name": "Python (Pyodide)",
      "language": "python"
    }
  },
  "nbformat_minor": 4,
  "nbformat": 4,
  "cells": [
    {
      "cell_type": "markdown",
      "source": "<h1> Data Science Tools and Ecosystem </h1>",
      "metadata": {}
    },
    {
      "cell_type": "markdown",
      "source": "Introduction - In this notebook, Data Science Tools and Ecosystem are summarized.",
      "metadata": {}
    },
    {
      "cell_type": "markdown",
      "source": "<b> Objectives: </b>\n<ul>\n    <li> List popular languages for Data Science </li>\n    <li> List commonly used libraries used by Data Scientists </li>\n    <li> List Data Science Tools </li>\n    <li> Execute arithmetic expressions </li>\n    <li> Convert hours to minutes </li>\n    <li> Add Comments </li>\n    <li> Make Markdown Cells </li>\n    <li> Make tables </li>\n    <li> Make ordered and unordered lists </li>\n</ul>",
      "metadata": {}
    },
    {
      "cell_type": "markdown",
      "source": "Some of the popular languages that Data Scientists use are:\n1. Python\n2. R\n3. Scala\n4. Java\n5. C++\n6. SQL\n7. Julia\n8. Visual Basic\n9. Go\n10. Ruby\n11. Php\n12. Javascript",
      "metadata": {}
    },
    {
      "cell_type": "markdown",
      "source": "Some of the commonly used libraries used by Data Scientists include:\n1. Pandas\n2. Numpy\n3. Scikit-learn\n4. Keras\n5. Apache Spark\n6. Vegas\n7. Seaborn\n8. Matplotlib\n9. PyTorch\n10. TensorFlow\n11. Ggplot2\n12. Big DL",
      "metadata": {}
    },
    {
      "cell_type": "markdown",
      "source": "| Data Science Tools |\n| -------- |\n| R Studio |\n| Anaconda |\n| Spyder |\n| Jupyter Notebooks |\n| Zeppelin |",
      "metadata": {}
    },
    {
      "cell_type": "markdown",
      "source": "<h3> Below are a few examples of evaluating arithmetic expressions in Python </h3>",
      "metadata": {}
    },
    {
      "cell_type": "code",
      "source": "# This a simple arithmetic expression to mutiply then add integers\n(3*4)+5",
      "metadata": {
        "trusted": true
      },
      "execution_count": 4,
      "outputs": [
        {
          "execution_count": 4,
          "output_type": "execute_result",
          "data": {
            "text/plain": "17"
          },
          "metadata": {}
        }
      ]
    },
    {
      "cell_type": "code",
      "source": "# This will convert 200 minutes to hours by diving by 60\nmins = 200\nhours = mins/60\nprint(f'{mins} minutes is equal to {hours} hours.')",
      "metadata": {
        "trusted": true
      },
      "execution_count": 5,
      "outputs": [
        {
          "name": "stdout",
          "text": "200 minutes is equal to 3.3333333333333335 hours.\n",
          "output_type": "stream"
        }
      ]
    },
    {
      "cell_type": "markdown",
      "source": "<h2> Author </h2>\nAnanya Warior",
      "metadata": {}
    }
  ]
}